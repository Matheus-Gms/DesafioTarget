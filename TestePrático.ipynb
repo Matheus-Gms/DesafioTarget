{
  "nbformat": 4,
  "nbformat_minor": 0,
  "metadata": {
    "colab": {
      "provenance": []
    },
    "kernelspec": {
      "name": "python3",
      "display_name": "Python 3"
    },
    "language_info": {
      "name": "python"
    }
  },
  "cells": [
    {
      "cell_type": "markdown",
      "source": [
        "1. Observe o trecho de código abaixo: int INDICE = 13, SOMA = 0, K = 0;\n",
        "Enquanto K < INDICE faça { K = K + 1; SOMA = SOMA + K; }\n",
        "Imprimir(SOMA);\n",
        "Ao final do processamento, qual será o valor da variável SOMA?\n"
      ],
      "metadata": {
        "id": "6jim1dUnR21I"
      }
    },
    {
      "cell_type": "code",
      "execution_count": null,
      "metadata": {
        "id": "eR5r8x4wRxOd"
      },
      "outputs": [],
      "source": [
        "indice = 13\n",
        "soma = 0\n",
        "k = 0\n",
        "\n",
        "while k < indice:\n",
        "    k += 1\n",
        "    soma += k\n",
        "\n",
        "print(\"Valor da variável SOMA: \", soma)"
      ]
    },
    {
      "cell_type": "markdown",
      "source": [
        "2. Dado a sequência de Fibonacci, onde se inicia por 0 e 1 e o próximo valor sempre será a soma dos 2 valores anteriores (exemplo: 0, 1, 1, 2, 3, 5, 8, 13, 21, 34...), escreva um programa na linguagem que desejar onde, informado um número, ele calcule a sequência de Fibonacci e retorne uma mensagem avisando se o número informado pertence ou não a sequência."
      ],
      "metadata": {
        "id": "V-AZYuM2TrxE"
      }
    },
    {
      "cell_type": "code",
      "source": [
        "def pertence_fibonacci(n):\n",
        "\n",
        "    if n < 0:\n",
        "        return False\n",
        "\n",
        "    a = 0\n",
        "    b = 1\n",
        "\n",
        "    while b < n:\n",
        "        a = b\n",
        "        b = a + b\n",
        "\n",
        "    return b == n\n",
        "\n",
        "numero = int(input(\"Informe um número para verificar se pertence à sequência de Fibonacci: \"))\n",
        "\n",
        "if pertence_fibonacci(numero):\n",
        "    print(f\"O número {numero} pertence à sequência de Fibonacci.\")\n",
        "else:\n",
        "    print(f\"O número {numero} não pertence à sequência de Fibonacci.\")"
      ],
      "metadata": {
        "colab": {
          "base_uri": "https://localhost:8080/"
        },
        "id": "mGMzvt06SXfw",
        "outputId": "5be1a8cb-41ff-4225-add9-be16cf27bf69"
      },
      "execution_count": 10,
      "outputs": [
        {
          "output_type": "stream",
          "name": "stdout",
          "text": [
            "Informe um número para verificar se pertence à sequência de Fibonacci: -1\n",
            "O número -1 não pertence à sequência de Fibonacci.\n"
          ]
        }
      ]
    },
    {
      "cell_type": "markdown",
      "source": [
        "3. Dado um vetor que guarda o valor de faturamento diário de uma distribuidora, faça um programa, na linguagem que desejar, que calcule e retorne:\n",
        "* O menor valor de faturamento ocorrido em um dia do mês;\n",
        "* O maior valor de faturamento ocorrido em um dia do mês;\n",
        "* Número de dias no mês em que o valor de faturamento diário foi superior à média mensal."
      ],
      "metadata": {
        "id": "pstOvXBWXO-X"
      }
    },
    {
      "cell_type": "code",
      "source": [
        "import json\n",
        "\n",
        "with open('dados.json', 'r') as file:\n",
        "    dados = json.load(file)\n",
        "\n",
        "def faturamento(dados):\n",
        "    valores = []\n",
        "\n",
        "    for i in range(len(dados)):\n",
        "        valor_mes = dados[i]['valor']\n",
        "\n",
        "        if valor_mes > 0:\n",
        "          valores.append(valor_mes)\n",
        "        else:\n",
        "          continue\n",
        "\n",
        "    minimo = min(valores)\n",
        "    maximo = max(valores)\n",
        "    media = sum(valores)/len(valores)\n",
        "    dias_acima_media = sum(1 for valor in valores if valor > media)\n",
        "\n",
        "    return minimo, maximo, dias_acima_media\n",
        "\n",
        "minimo, maximo, dias_acima_media = faturamento(dados)\n",
        "\n",
        "print(\"O menor valor de faturamento ocorrido em um dia do mês: \", minimo)\n",
        "print(\"O maior valor de faturamento ocorrido em um dia do mês: \", maximo)\n",
        "print(\"Número de dias no mês em que o valor de faturamento diário foi superior à média mensal: \", dias_acima_media)"
      ],
      "metadata": {
        "colab": {
          "base_uri": "https://localhost:8080/"
        },
        "id": "JUb_cppQXzIh",
        "outputId": "d3c91a9c-3803-4dc2-de35-7ea9ed9f17a4"
      },
      "execution_count": 32,
      "outputs": [
        {
          "output_type": "stream",
          "name": "stdout",
          "text": [
            "O menor valor de faturamento ocorrido em um dia do mês:  373.7838\n",
            "O maior valor de faturamento ocorrido em um dia do mês:  48924.2448\n",
            "Número de dias no mês em que o valor de faturamento diário foi superior à média mensal:  10\n"
          ]
        }
      ]
    },
    {
      "cell_type": "markdown",
      "source": [
        "4. Dado o valor de faturamento mensal de uma distribuidora, detalhado por estado:\n",
        "\n",
        "*   **SP**: R$ 67.836,43\n",
        "\n",
        "*   **RJ**: R$ 36.678,66\n",
        "\n",
        "*   **MG**: R$ 29.229,88\n",
        "\n",
        "*   **ES**: R$ 27.165,48\n",
        "\n",
        "*   **Outros**: R$ 19.849,53\n",
        "\n",
        "Escreva um programa na linguagem que desejar onde calcule o percentual de representação que cada estado teve dentro do valor total mensal da distribuidora."
      ],
      "metadata": {
        "id": "aRmrSv8rd9ko"
      }
    },
    {
      "cell_type": "code",
      "source": [
        "faturamento = [\n",
        "    {'estado': 'SP', 'valor': 67836.43},\n",
        "    {'estado': 'RJ', 'valor': 36678.66},\n",
        "    {'estado': 'MG', 'valor': 29229.88},\n",
        "    {'estado': 'ES', 'valor': 27165.48},\n",
        "    {'estado': 'Outros', 'valor': 19849.53}\n",
        "]\n",
        "\n",
        "\n",
        "\n",
        "def percentual(dados):\n",
        "    representacao = {}\n",
        "    soma_total = sum(valor['valor'] for valor in dados)\n",
        "\n",
        "    for i in dados:\n",
        "        percent = round((i['valor']/soma_total)*100)\n",
        "        representacao[i['estado']] = percent\n",
        "\n",
        "    return representacao\n",
        "\n",
        "resultado = percentual(faturamento)\n",
        "print({estado: f\"{valor}%\" for estado, valor in resultado.items()})"
      ],
      "metadata": {
        "colab": {
          "base_uri": "https://localhost:8080/"
        },
        "id": "MKWpsEanYN8P",
        "outputId": "68e8dd47-5f37-4b90-fb30-dfd1a8bac573"
      },
      "execution_count": 42,
      "outputs": [
        {
          "output_type": "stream",
          "name": "stdout",
          "text": [
            "{'SP': '38%', 'RJ': '20%', 'MG': '16%', 'ES': '15%', 'Outros': '11%'}\n"
          ]
        }
      ]
    },
    {
      "cell_type": "markdown",
      "source": [
        "5. Escreva um programa que inverta os caracteres de um string.\n"
      ],
      "metadata": {
        "id": "t2r3VcRDl6cp"
      }
    },
    {
      "cell_type": "code",
      "source": [
        "def inverte(palavra):\n",
        "    palavra_invertida = ''\n",
        "    i = len(palavra)\n",
        "\n",
        "    for j in range(i-1, -1, -1):\n",
        "        palavra_invertida += palavra[j]\n",
        "\n",
        "    return palavra_invertida\n",
        "\n",
        "palavra = input('Digite uma palavra: ')\n",
        "\n",
        "invertido = inverte(palavra)\n",
        "print(f\"A string {palavra} invertida é: '{invertido}'\")"
      ],
      "metadata": {
        "colab": {
          "base_uri": "https://localhost:8080/"
        },
        "id": "nJvXuGlDhG5S",
        "outputId": "22cf5955-f1fc-407d-8893-5e33c688e53b"
      },
      "execution_count": 57,
      "outputs": [
        {
          "output_type": "stream",
          "name": "stdout",
          "text": [
            "Digite uma palavra: bola\n",
            "A string bola invertida é: 'alob'\n"
          ]
        }
      ]
    }
  ]
}